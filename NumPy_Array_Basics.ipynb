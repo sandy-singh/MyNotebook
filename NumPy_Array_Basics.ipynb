{
 "cells": [
  {
   "cell_type": "markdown",
   "id": "4cb76dbc",
   "metadata": {},
   "source": [
    "Table of Content:\n",
    "- Intro to Numpy Array\n",
    "- .ndim\n",
    "- .shape"
   ]
  },
  {
   "cell_type": "code",
   "execution_count": null,
   "id": "9f44efc0",
   "metadata": {},
   "outputs": [
    {
     "name": "stdout",
     "output_type": "stream",
     "text": [
      "Regular array: [1, 2, 3, 4, 5]\n",
      "Numpy array: [1 2 3 4 5]\n"
     ]
    }
   ],
   "source": [
    "import numpy as np\n",
    "\n",
    "# Python Regular array\n",
    "regular_array = [1,2,3,4,5]\n",
    "print(\"Regular array:\", regular_array)\n",
    "\n",
    "# Numpy array\n",
    "numpy_array = np.array([1,2,3,4,5])\n",
    "print(\"Numpy array:\", numpy_array)\n",
    "\n"
   ]
  },
  {
   "cell_type": "code",
   "execution_count": 5,
   "id": "a70cf223",
   "metadata": {},
   "outputs": [
    {
     "name": "stdout",
     "output_type": "stream",
     "text": [
      "Numpy array 1: [1 2 3 4 5]\n",
      "Numpy array 2: [['a' 'b' 'c']\n",
      " ['d' 'e' 'f']]\n",
      "Dimension of n1: 1\n",
      "Dimension of n2: 2\n",
      "Shape of n1: (5,)\n",
      "Shape of n2: (2, 3)\n"
     ]
    }
   ],
   "source": [
    "n1= np.array([1,2,3,4,5])\n",
    "n2= np.array([['a','b','c'],['d','e','f']])\n",
    "print(\"Numpy array 1:\", n1)\n",
    "print(\"Numpy array 2:\", n2)\n",
    "\n",
    "#Get Dimension of an array\n",
    "print(\"Dimension of n1:\", n1.ndim) # 1D array\n",
    "print(\"Dimension of n2:\", n2.ndim) # 2D array\n",
    "\n",
    "#Get Shape of an array (length of each dimension)\n",
    "print(\"Shape of n1:\", n1.shape) # 5\n",
    "print(\"Shape of n2:\", n2.shape) # 2 rows, 3 columns\n"
   ]
  }
 ],
 "metadata": {
  "kernelspec": {
   "display_name": "Python 3 (ipykernel)",
   "language": "python",
   "name": "python3"
  },
  "language_info": {
   "codemirror_mode": {
    "name": "ipython",
    "version": 3
   },
   "file_extension": ".py",
   "mimetype": "text/x-python",
   "name": "python",
   "nbconvert_exporter": "python",
   "pygments_lexer": "ipython3",
   "version": "3.12.1"
  }
 },
 "nbformat": 4,
 "nbformat_minor": 5
}
